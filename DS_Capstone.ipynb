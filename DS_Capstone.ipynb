{
  "nbformat": 4,
  "nbformat_minor": 0,
  "metadata": {
    "colab": {
      "provenance": [],
      "toc_visible": true,
      "authorship_tag": "ABX9TyO1D3/ajrZ4O+YuW1b+lQCK",
      "include_colab_link": true
    },
    "kernelspec": {
      "name": "python3",
      "display_name": "Python 3"
    },
    "language_info": {
      "name": "python"
    }
  },
  "cells": [
    {
      "cell_type": "markdown",
      "metadata": {
        "id": "view-in-github",
        "colab_type": "text"
      },
      "source": [
        "<a href=\"https://colab.research.google.com/github/0vv0xtt/0vv0xtt/blob/main/DS_Capstone.ipynb\" target=\"_parent\"><img src=\"https://colab.research.google.com/assets/colab-badge.svg\" alt=\"Open In Colab\"/></a>"
      ]
    },
    {
      "cell_type": "code",
      "execution_count": null,
      "metadata": {
        "id": "ol7XhOB0IZZ9"
      },
      "outputs": [],
      "source": [
        "\n",
        "#importing the libraries\n",
        "import random\n",
        "import numpy as np\n",
        "import pandas as pd\n",
        "import scipy.stats as stats\n",
        "from sklearn import datasets  \n",
        "from sklearn.preprocessing import StandardScaler \n",
        "from sklearn.decomposition import PCA \n",
        "import seaborn as sns \n",
        "import matplotlib.pyplot as plt\n",
        "seed = random.seed(18969556)#my student number"
      ]
    },
    {
      "cell_type": "code",
      "source": [
        "#in this code section, I will be transferring all the data into pandas data fram\n",
        "file_path = 'https://raw.githubusercontent.com/0vv0xtt/DS-csv/main/theData.csv' #file path to the rating data\"\n",
        "file_path1 = 'https://raw.githubusercontent.com/0vv0xtt/DS-csv/main/theArt.csv' #file path of the artworks\"\n",
        "#data = np.genfromtxt('raw.githubusercontent.com/0vv0xtt/DS-csv/main/theArt.csv',delimiter=',')\n",
        "npdata = np.genfromtxt('https://raw.githubusercontent.com/0vv0xtt/DS-csv/main/theData.csv',delimiter=',')\n",
        "data = pd.read_csv(file_path,header = None)\n",
        "art = pd.read_csv(file_path1) #the pandas data frame that took care of \n",
        "#art[art.iloc[:, 5] == 2]\n",
        "rating=data.iloc[:,0:91]\n"
      ],
      "metadata": {
        "id": "rLPkeP0wIpsQ"
      },
      "execution_count": null,
      "outputs": []
    },
    {
      "cell_type": "markdown",
      "source": [
        "# question 1&2"
      ],
      "metadata": {
        "id": "jhY4HyQNifbv"
      }
    },
    {
      "cell_type": "code",
      "source": [
        "#code for question1 and 2 - Is classical art more well liked than modern art?\n",
        "df1_1 = art[art['Source (1 = classical, 2 = modern, 3 = nonhuman)']==1] #classical art work\n",
        "df1_2 = art[art['Source (1 = classical, 2 = modern, 3 = nonhuman)']==2] #modern art work\n",
        "'''\n",
        "after looking at the dataframes, I know that #1-35 is classical art, ##36-70 is modern art #71-91 is nonhuman art'''\n",
        "#I am taking the row mean to first get the individual's mean preference on type of artwork\n",
        "classical=npdata[:,0:35]\n",
        "classicalrowMeans = np.mean(classical,axis=1)   \n",
        "modern=npdata[:,35:70]\n",
        "modernrowMeans = np.mean(modern,axis=1)   \n",
        "nonhuman=npdata[:,70:91]\n",
        "nonhumanrowMeans = np.mean(nonhuman,axis=1)   \n",
        "\n",
        "classical_m=npdata[:,0:35].mean()\n",
        "modern_m=npdata[:,36:70].mean()\n",
        "nonhuman_m = npdata[:,70:91].mean()\n",
        "#conducting the paired t-test\n",
        "classical_greater_modern = stats.ttest_rel(classicalrowMeans,modernrowMeans,alternative='greater')\n",
        "modern_nonhuman=stats.ttest_rel(modernrowMeans,nonhumanrowMeans)\n",
        "\n",
        "#classical_greater_modern\n",
        "#df1_1.shape, df1_2.shape\n",
        "\n",
        "artwork_r = [classicalrowMeans,modernrowMeans]\n",
        "artwork_r2 = [modernrowMeans,nonhumanrowMeans]\n",
        "'''\n",
        "fig = sns.boxplot(data=artwork_r, color='white').set(title='Rating of classical art vs. modern art')\n",
        "plt.xlabel(\"type of art work (0 = classical, 1=modern)\")\n",
        "plt.ylabel(\"mean rating of art work\")\n",
        "'''\n",
        "fig2 = sns.boxplot(data=artwork_r2, color='white').set(title='Rating of modern art vs. non-human generated art')\n",
        "plt.xlabel(\"type of art work (0 = modern, 1=non-human generated)\")\n",
        "plt.ylabel(\"mean rating of art work\")\n"
      ],
      "metadata": {
        "colab": {
          "base_uri": "https://localhost:8080/",
          "height": 312
        },
        "id": "-ELRKa__M-Xh",
        "outputId": "fead8d1e-0636-44c7-853d-1fa30f94f3fb"
      },
      "execution_count": null,
      "outputs": [
        {
          "output_type": "execute_result",
          "data": {
            "text/plain": [
              "Text(0, 0.5, 'mean rating of art work')"
            ]
          },
          "metadata": {},
          "execution_count": 164
        },
        {
          "output_type": "display_data",
          "data": {
            "text/plain": [
              "<Figure size 432x288 with 1 Axes>"
            ],
            "image/png": "[encoded data removed]"
          },
          "metadata": {
            "needs_background": "light"
          }
        }
      ]
    },
    {
      "cell_type": "markdown",
      "source": [
        "# question 3\n"
      ],
      "metadata": {
        "id": "BVIohCSNin6H"
      }
    },
    {
      "cell_type": "code",
      "source": [
        "#question 3, does women give higher art preference rating than men?\n",
        "male = data[data.iloc[:,216]==1] #male\n",
        "female =  data[data.iloc[:,216]==2] #female\n",
        "female_rating = female.iloc[:,0:91]\n",
        "male_rating = male.iloc[:,0:91]\n",
        "m_mean = male_rating.mean(axis=1)\n",
        "#m_mean = m_mean.to_numpy #np array that consists of each male's individual preference\n",
        "f_mean = female_rating.mean(axis=1)\n",
        "\n",
        "#f_mean = f_mean.,to_numpy\n",
        "stats.ttest_ind(f_mean,m_mean,alternative='greater')"
      ],
      "metadata": {
        "id": "LMgPhYq9UasI",
        "colab": {
          "base_uri": "https://localhost:8080/"
        },
        "outputId": "81858f17-3c15-4a55-a7ff-ce77f9c850ec"
      },
      "execution_count": null,
      "outputs": [
        {
          "output_type": "execute_result",
          "data": {
            "text/plain": [
              "Ttest_indResult(statistic=0.1378782526747258, pvalue=0.4452193254023975)"
            ]
          },
          "metadata": {},
          "execution_count": 262
        }
      ]
    },
    {
      "cell_type": "code",
      "source": [
        "rating1 = [m_mean,f_mean]\n",
        "plt.boxplot(rating1)\n",
        "plt.ylabel(\"rating of each artwork\")\n",
        "plt.xlabel(\"male = 1 female =2 \")\n",
        "plt.title(\"Male vs. Female artwork preference rating box plot\")\n",
        "plt.show()\n"
      ],
      "metadata": {
        "colab": {
          "base_uri": "https://localhost:8080/",
          "height": 349
        },
        "id": "Itqx7cKVlbUR",
        "outputId": "e93cd294-66f4-4452-93f8-5eb84990f225"
      },
      "execution_count": null,
      "outputs": [
        {
          "output_type": "stream",
          "name": "stderr",
          "text": [
            "/usr/local/lib/python3.8/dist-packages/matplotlib/cbook/__init__.py:1376: VisibleDeprecationWarning: Creating an ndarray from ragged nested sequences (which is a list-or-tuple of lists-or-tuples-or ndarrays with different lengths or shapes) is deprecated. If you meant to do this, you must specify 'dtype=object' when creating the ndarray.\n",
            "  X = np.atleast_1d(X.T if isinstance(X, np.ndarray) else np.asarray(X))\n"
          ]
        },
        {
          "output_type": "display_data",
          "data": {
            "text/plain": [
              "<Figure size 432x288 with 1 Axes>"
            ],
            "image/png": "[encoded data removed]"
          },
          "metadata": {
            "needs_background": "light"
          }
        }
      ]
    },
    {
      "cell_type": "markdown",
      "source": [
        "# question 4"
      ],
      "metadata": {
        "id": "1uIXqbxEirmG"
      }
    },
    {
      "cell_type": "code",
      "source": [
        "#4) Is there a difference in the preference ratings of users with some art background (some art education) vs. none? \n",
        "n_artedu = data[data.iloc[:,218]==0]#never had any art education\n",
        "n_artedu_rating = n_artedu.iloc[:,0:91] #only looking at the rating part\n",
        "n_artedu_mean = n_artedu_rating.mean(axis=1) #taking each person's average rating on each art piece\n",
        "w_artedu = data[data.iloc[:,218]!=0]#had art education\n",
        "w_artedu_rating = w_artedu.iloc[:,0:91]\n",
        "w_artedu_mean = w_artedu_rating.mean(axis=1)\n",
        "\n",
        "\n",
        "one_artedu = data[data.iloc[:,218]==1]#one year\n",
        "two_artedu = data[data.iloc[:,218]==2]\n",
        "three_artedu = data[data.iloc[:,218]==3]\n",
        "one_artedu_rating = one_artedu.iloc[:,0:91]\n",
        "two_artedu_rating = two_artedu.iloc[:,0:91]\n",
        "three_artedu_rating = three_artedu.iloc[:,0:91]\n",
        "one_artedu_mean = one_artedu_rating.mean(axis=1)\n",
        "two_artedu_mean = two_artedu_rating.mean(axis=1)\n",
        "three_artedu_mean = three_artedu_rating.mean(axis=1)\n",
        "\n",
        "\n",
        "indep_t_test = stats.ttest_ind(n_artedu_mean,w_artedu_mean)\n",
        "#anova_test= \n",
        "anova= stats.f_oneway(n_artedu_mean,one_artedu_mean,two_artedu_mean,three_artedu_mean)\n",
        "edu_rating= [n_artedu_mean,one_artedu_mean,two_artedu_mean,three_artedu_mean]\n",
        "fig1 = sns.boxplot(data=edu_rating, color='white').set(title='Rating of individuals with different art background')\n",
        "plt.xlabel(\"year of art education\")\n",
        "plt.ylabel(\"rating on art work\")"
      ],
      "metadata": {
        "colab": {
          "base_uri": "https://localhost:8080/",
          "height": 313
        },
        "id": "-_yjRMYOqiyE",
        "outputId": "093f8c1c-5243-42c5-ae29-695a6848148e"
      },
      "execution_count": null,
      "outputs": [
        {
          "output_type": "execute_result",
          "data": {
            "text/plain": [
              "Text(0, 0.5, 'rating on art work')"
            ]
          },
          "metadata": {},
          "execution_count": 128
        },
        {
          "output_type": "display_data",
          "data": {
            "text/plain": [
              "<Figure size 432x288 with 1 Axes>"
            ],
            "image/png": "[encoded data removed]"
          },
          "metadata": {
            "needs_background": "light"
          }
        }
      ]
    },
    {
      "cell_type": "markdown",
      "source": [
        "# Question 5"
      ],
      "metadata": {
        "id": "xYQ9f2o1iw8-"
      }
    },
    {
      "cell_type": "code",
      "source": [
        "import statsmodels.api as sm\n",
        "from sklearn.linear_model import LinearRegression\n",
        "energy = npdata[:,91:182].mean(axis=0)\n",
        "rating1=rating.mean()\n",
        "x=energy.reshape((-1, 1))\n",
        "y=rating1\n",
        "model = LinearRegression().fit(x, y)\n",
        "r_sq = model.score(x, y)\n",
        "print(f\"coefficient of determination: {r_sq}\")\n",
        "print(f\"intercept: {model.intercept_}\")\n",
        "print(f\"slope: {model.coef_}\")\n",
        "y_pred = LinearRegression().fit(x, y).predict(x)\n",
        "#var1 = 2 #Which is our first variable\n",
        "#var2 = 3 #2nd variable to relate it to\n",
        "\n",
        "r = np.corrcoef(energy,rating)\n",
        "plt.plot(energy,rating1,'o') \n",
        "plt.plot(x, y_pred, color=\"black\")\n",
        "plt.xlabel('Energy Rating') #Suitable x-axis label\n",
        "plt.ylabel('Rating of Artwork') #Suitable y-axis label\n",
        "plt.title('r = {:.3f}'.format(r[0,1]))\n",
        "plt.title(\"energy ratings vs. artwork preference ratings\")"
      ],
      "metadata": {
        "colab": {
          "base_uri": "https://localhost:8080/",
          "height": 363
        },
        "id": "vlhYsq5sVKaz",
        "outputId": "638a15c6-4f2f-422f-bdf3-ce92b59fd9cd"
      },
      "execution_count": null,
      "outputs": [
        {
          "output_type": "stream",
          "name": "stdout",
          "text": [
            "coefficient of determination: 0.14770631709322313\n",
            "intercept: 6.715961777245145\n",
            "slope: [-0.61311182]\n"
          ]
        },
        {
          "output_type": "execute_result",
          "data": {
            "text/plain": [
              "Text(0.5, 1.0, 'energy ratings vs. artwork preference ratings')"
            ]
          },
          "metadata": {},
          "execution_count": 358
        },
        {
          "output_type": "display_data",
          "data": {
            "text/plain": [
              "<Figure size 432x288 with 1 Axes>"
            ],
            "image/png": "[encoded data removed]"
          },
          "metadata": {
            "needs_background": "light"
          }
        }
      ]
    },
    {
      "cell_type": "code",
      "source": [],
      "metadata": {
        "colab": {
          "base_uri": "https://localhost:8080/"
        },
        "id": "XHiKpF2mZ8ll",
        "outputId": "c14e1325-7fa8-4e4b-b11e-a4247227f710"
      },
      "execution_count": null,
      "outputs": [
        {
          "output_type": "stream",
          "name": "stdout",
          "text": [
            "coefficient of determination: 0.39416267356225226\n",
            "intercept: [ 0.86608367  2.2550393   2.30709771  2.41121696  2.53730704 -0.06701781\n",
            "  1.60352541  0.40426286  0.84884391  1.42758225  1.77856019  0.84716672\n",
            "  2.31679185  3.00251741  2.14105177  2.24897653  2.92054291 -0.28747489\n",
            "  2.15147073  2.08043182  0.90296452  0.14315496  1.92893582  2.89724354\n",
            "  2.09998864  3.3179079   0.55608876  2.93067803  1.59728281  0.69447489\n",
            "  1.25457015  0.96159044  1.21849045  2.00987483  1.15080877  2.30861413\n",
            "  3.80350298  1.95555669  1.57355241  0.93714357  1.49806443  0.30593324\n",
            "  1.53909385  0.61859384 -0.10161091  1.16868294  1.63468064  0.12274392\n",
            "  2.79008475  2.61508402  0.57121029  0.35144141  0.98956211  2.25295844\n",
            "  1.23838799  1.16710976  0.54229222  1.157497    2.54153345  3.13210369\n",
            "  0.77142     1.15858497  1.35447932  1.77952385  3.01260835  1.07456025\n",
            "  3.03046281  1.77159654  0.29810102  2.06252379  1.04734978  1.17523263\n",
            "  1.70948592  1.97585558  3.29906463  1.2344486   1.60075396  0.9068221\n",
            " -0.15099982  3.7779362   0.62698524  1.44998124  2.05093042  1.81225524\n",
            "  0.47904132  1.68070025  1.83653592  2.71346841  0.78314213  1.58000926\n",
            "  2.74676219]\n",
            "slope: [[ 0.07166048 -0.07220846  0.06001382 ... -0.01719553  0.17872651\n",
            "  -0.09493256]\n",
            " [-0.06865367 -0.02949601 -0.10979433 ... -0.0435947   0.01245619\n",
            "   0.15790302]\n",
            " [ 0.09069625  0.09941467 -0.47717464 ...  0.00702207  0.00233315\n",
            "   0.13559565]\n",
            " ...\n",
            " [ 0.0820047   0.01721367  0.19781777 ... -0.14052665 -0.03270444\n",
            "  -0.05228931]\n",
            " [ 0.12281093  0.33214874 -0.1550034  ...  0.03953288 -0.07759768\n",
            "  -0.00494821]\n",
            " [ 0.01295315  0.03571152 -0.18232596 ...  0.01408046  0.02522094\n",
            "  -0.05735814]]\n"
          ]
        }
      ]
    },
    {
      "cell_type": "code",
      "source": [
        "from scipy.stats import spearmanr\n",
        "energy1 = data.iloc[:,91:182].mean(axis=0)\n",
        "rating2=rating.mean()\n",
        "rho, p = spearmanr(energy1, rating2)"
      ],
      "metadata": {
        "id": "WJMbLdZiYqay"
      },
      "execution_count": null,
      "outputs": []
    },
    {
      "cell_type": "markdown",
      "source": [
        "# Question 6"
      ],
      "metadata": {
        "id": "mB_lgtrGsX_g"
      }
    },
    {
      "cell_type": "code",
      "source": [
        "from sklearn import linear_model\n",
        "#data.loc[:,215], data.loc[:,216],data.loc[:,218]\n",
        "X = data.iloc[: , [215, 216, 218]].copy() \n",
        "energy = data.iloc[:,91:182].mean(axis=1)\n",
        "energy = energy.to_frame()\n",
        "X['energy'] = energy\n",
        "X=X.fillna(0)\n",
        "Y = rating.mean(axis=1)\n",
        "reg = linear_model.LinearRegression()\n",
        "reg.fit(X, Y)\n",
        "Intercept=reg.intercept_\n",
        "Coefficients=reg.coef_\n",
        "Y_pred = LinearRegression().fit(X, Y).predict(X)\n",
        "\n",
        "#r = np.corrcoef(X,Y)\n",
        "reg.score(X, y)\n"
      ],
      "metadata": {
        "colab": {
          "base_uri": "https://localhost:8080/"
        },
        "id": "IDj6j1ooJIHn",
        "outputId": "a8bdea75-52a3-4386-8632-fee899418316"
      },
      "execution_count": null,
      "outputs": [
        {
          "output_type": "stream",
          "name": "stderr",
          "text": [
            "/usr/local/lib/python3.8/dist-packages/sklearn/utils/validation.py:1688: FutureWarning: Feature names only support names that are all strings. Got feature names with dtypes: ['int', 'str']. An error will be raised in 1.2.\n",
            "  warnings.warn(\n",
            "/usr/local/lib/python3.8/dist-packages/sklearn/utils/validation.py:1688: FutureWarning: Feature names only support names that are all strings. Got feature names with dtypes: ['int', 'str']. An error will be raised in 1.2.\n",
            "  warnings.warn(\n",
            "/usr/local/lib/python3.8/dist-packages/sklearn/utils/validation.py:1688: FutureWarning: Feature names only support names that are all strings. Got feature names with dtypes: ['int', 'str']. An error will be raised in 1.2.\n",
            "  warnings.warn(\n",
            "/usr/local/lib/python3.8/dist-packages/sklearn/utils/validation.py:1688: FutureWarning: Feature names only support names that are all strings. Got feature names with dtypes: ['int', 'str']. An error will be raised in 1.2.\n",
            "  warnings.warn(\n"
          ]
        },
        {
          "output_type": "execute_result",
          "data": {
            "text/plain": [
              "0.10976152205010903"
            ]
          },
          "metadata": {},
          "execution_count": 385
        }
      ]
    },
    {
      "cell_type": "markdown",
      "source": [
        "# Question 8 "
      ],
      "metadata": {
        "id": "ieXxrCiTCjCg"
      }
    },
    {
      "cell_type": "code",
      "source": [
        "question = np.array(range(1,11))#Keep track of the question numbers\n",
        "data8 = data.iloc[:,205:215] #take out the Dark energy question part\n",
        "data8=data8.dropna()\n",
        "\n",
        "corrM = data8.corr()#correlation matrix for Dark energy\n",
        "plt.imshow(corrM)\n",
        "plt.xlabel('Question')\n",
        "plt.ylabel('Question')\n",
        "plt.colorbar()\n",
        "plt.show()\n",
        "#standardizing the data\n",
        "normalized_data=(data8-data8.mean())/data8.std()\n",
        "normalized_data=normalized_data.dropna(axis=0) #I dropped the rows that contained NAN values\n",
        "pca = PCA().fit(normalized_data) \n",
        "pca2 = PCA().fit(data8)\n",
        "#eigenvalues\n",
        "eigVals = pca.explained_variance_\n",
        "eigVals2 = pca2.explained_variance_\n",
        "#eigenvectors\n",
        "loadings = pca.components_ \n",
        "loadings2 = pca2.components_\n",
        "rotatedData = pca.fit_transform(normalized_data)\n",
        "varExplained = eigVals/sum(eigVals)*100"
      ],
      "metadata": {
        "colab": {
          "base_uri": "https://localhost:8080/",
          "height": 283
        },
        "id": "wU1WgCBvCldo",
        "outputId": "931c6ed4-6a20-48c2-e59b-5656f8d5b39d"
      },
      "execution_count": null,
      "outputs": [
        {
          "output_type": "display_data",
          "data": {
            "text/plain": [
              "<Figure size 432x288 with 2 Axes>"
            ],
            "image/png": "[encoded data removed]"
          },
          "metadata": {
            "needs_background": "light"
          }
        }
      ]
    },
    {
      "cell_type": "code",
      "source": [
        "for ii in range(len(varExplained)):\n",
        "   print(varExplained[ii].round(3))\n",
        "numQuestions1 = len(question)\n",
        "x = np.linspace(1,numQuestions1,numQuestions1)\n",
        "plt.bar(x, eigVals, color='grey')\n",
        "plt.plot([0,numQuestions1],[1,1],color='violet') # some violet pride\n",
        "plt.xlabel('Principal component')\n",
        "plt.ylabel('Eigenvalue')\n",
        "plt.show()\n",
        "kaiserThreshold = 1\n",
        "print('Number of factors selected by Kaiser criterion:', np.count_nonzero(eigVals > kaiserThreshold))\n",
        "print('Number of factors selected by elbow criterion: 1') #Due to visual inspection by primate\n",
        "threshold = 90 \n",
        "eigSum = np.cumsum(varExplained)\n",
        "print('Number of factors to account for at least 90% variance:', np.count_nonzero(eigSum < threshold) + 1)\n",
        "whichPrincipalComponent = 0  # Select and look at one factor at a time, in Python indexing\n",
        "plt.bar(x,loadings[whichPrincipalComponent,:]*-1) # note: eigVecs multiplied by -1 because the direction is arbitrary\n",
        "#and Python reliably picks the wrong one. So we flip it.\n",
        "plt.xlabel('Question')\n",
        "plt.ylabel('Loading')\n",
        "plt.show() # Show bar plot"
      ],
      "metadata": {
        "colab": {
          "base_uri": "https://localhost:8080/",
          "height": 765
        },
        "id": "x1iQX6czEiIT",
        "outputId": "62dd55d2-7779-4b59-dcbe-8419324de84f"
      },
      "execution_count": null,
      "outputs": [
        {
          "output_type": "stream",
          "name": "stdout",
          "text": [
            "43.137\n",
            "14.183\n",
            "7.957\n",
            "7.147\n",
            "5.953\n",
            "5.514\n",
            "5.121\n",
            "4.185\n",
            "3.726\n",
            "3.077\n"
          ]
        },
        {
          "output_type": "display_data",
          "data": {
            "text/plain": [
              "<Figure size 432x288 with 1 Axes>"
            ],
            "image/png": "[encoded data removed]"
          },
          "metadata": {
            "needs_background": "light"
          }
        },
        {
          "output_type": "stream",
          "name": "stdout",
          "text": [
            "Number of factors selected by Kaiser criterion: 2\n",
            "Number of factors selected by elbow criterion: 1\n",
            "Number of factors to account for at least 90% variance: 8\n"
          ]
        },
        {
          "output_type": "display_data",
          "data": {
            "text/plain": [
              "<Figure size 432x288 with 1 Axes>"
            ],
            "image/png": "[encoded data removed]"
          },
          "metadata": {
            "needs_background": "light"
          }
        }
      ]
    },
    {
      "cell_type": "code",
      "source": [
        "plt.plot(rotatedData[:,0]*-1,rotatedData[:,1]*-1,'o',markersize=5) \n",
        "\n",
        "plt.xlabel('art preference rating')\n",
        "plt.ylabel('self-esteem')\n",
        "plt.show()\n",
        "P8 = loadings[whichPrincipalComponent,:]*-1\n",
        "P8"
      ],
      "metadata": {
        "colab": {
          "base_uri": "https://localhost:8080/",
          "height": 313
        },
        "id": "vXVgvgv9nqWu",
        "outputId": "f6a6aac4-81e7-4feb-b7bc-557143f5706f"
      },
      "execution_count": null,
      "outputs": [
        {
          "output_type": "display_data",
          "data": {
            "text/plain": [
              "<Figure size 432x288 with 1 Axes>"
            ],
            "image/png": "[encoded data removed]"
          },
          "metadata": {
            "needs_background": "light"
          }
        },
        {
          "output_type": "execute_result",
          "data": {
            "text/plain": [
              "array([0.38364169, 0.33662453, 0.27865626, 0.20687105, 0.3241872 ,\n",
              "       0.2909794 , 0.3023467 , 0.2752813 , 0.36173059, 0.36228351])"
            ]
          },
          "metadata": {},
          "execution_count": 34
        }
      ]
    },
    {
      "cell_type": "markdown",
      "source": [
        "#Question 9"
      ],
      "metadata": {
        "id": "_Ze5EOLesI1o"
      }
    },
    {
      "cell_type": "code",
      "source": [
        "#Q5 dark personality traitrunning a PCA first\n",
        "\n",
        "question_n = np.array(range(1,13))#Keep track of the question numbers\n",
        "data5 = data.iloc[:,182:194] #take out the Dark energy question part\n",
        "data5=data5.dropna()\n",
        "\n",
        "corrM = data5.corr()#correlation matrix for Dark energy\n",
        "plt.imshow(corrM)\n",
        "plt.xlabel('Question')\n",
        "plt.ylabel('Question')\n",
        "plt.colorbar()\n",
        "plt.show()\n",
        "#standardizing the data\n",
        "normalized_data=(data5-data5.mean())/data5.std()\n",
        "normalized_data=normalized_data.dropna(axis=0) #I dropped the rows that contained NAN values\n",
        "pca = PCA().fit(normalized_data) \n",
        "pca2 = PCA().fit(data5)\n",
        "#eigenvalues\n",
        "eigVals = pca.explained_variance_\n",
        "eigVals2 = pca2.explained_variance_\n",
        "#eigenvectors\n",
        "loadings = pca.components_ \n",
        "loadings2 = pca2.components_\n",
        "rotatedData = pca.fit_transform(normalized_data)\n",
        "varExplained = eigVals/sum(eigVals)*100\n",
        "#for ii in range(len(varExplained)):\n",
        " #   print(varExplained[ii].round(3))'''\n",
        "\n"
      ],
      "metadata": {
        "id": "FbH4sEG6aWqm",
        "colab": {
          "base_uri": "https://localhost:8080/",
          "height": 283
        },
        "outputId": "c173b726-51b1-4ff5-b1a4-a10c84540071"
      },
      "execution_count": null,
      "outputs": [
        {
          "output_type": "display_data",
          "data": {
            "text/plain": [
              "<Figure size 432x288 with 2 Axes>"
            ],
            "image/png": "[encoded data removed]"
          },
          "metadata": {
            "needs_background": "light"
          }
        }
      ]
    },
    {
      "cell_type": "code",
      "source": [
        "    \n",
        "#plotting\n",
        "numQuestions = len(question_n)\n",
        "x = np.linspace(1,numQuestions,numQuestions)\n",
        "plt.bar(x, eigVals, color='grey')\n",
        "plt.plot([0,numQuestions],[1,1],color='violet') # some violet pride\n",
        "plt.xlabel('Principal component')\n",
        "plt.ylabel('Eigenvalue')\n",
        "plt.show()\n",
        "kaiserThreshold = 1\n",
        "print('Number of factors selected by Kaiser criterion:', np.count_nonzero(eigVals > kaiserThreshold))\n",
        "print('Number of factors selected by elbow criterion: 1') #Due to visual inspection by primate\n",
        "threshold = 90 \n",
        "eigSum = np.cumsum(varExplained)\n",
        "print('Number of factors to account for at least 90% variance:', np.count_nonzero(eigSum < threshold) + 1)\n",
        "whichPrincipalComponent = 2 # Select and look at one factor at a time, in Python indexing\n",
        "plt.bar(x,loadings[whichPrincipalComponent,:]*-1) # note: eigVecs multiplied by -1 because the direction is arbitrary\n",
        "#and Python reliably picks the wrong one. So we flip it.\n",
        "plt.xlabel('Question')\n",
        "plt.ylabel('Loading')\n",
        "plt.show() # Show bar plot\n"
      ],
      "metadata": {
        "colab": {
          "base_uri": "https://localhost:8080/",
          "height": 592
        },
        "id": "eMb1J0KIAYvp",
        "outputId": "fb5cc314-ff6a-4c23-95a9-457756163ebe"
      },
      "execution_count": null,
      "outputs": [
        {
          "output_type": "display_data",
          "data": {
            "text/plain": [
              "<Figure size 432x288 with 1 Axes>"
            ],
            "image/png": "[encoded data removed]"
          },
          "metadata": {
            "needs_background": "light"
          }
        },
        {
          "output_type": "stream",
          "name": "stdout",
          "text": [
            "Number of factors selected by Kaiser criterion: 3\n",
            "Number of factors selected by elbow criterion: 1\n",
            "Number of factors to account for at least 90% variance: 10\n"
          ]
        },
        {
          "output_type": "display_data",
          "data": {
            "text/plain": [
              "<Figure size 432x288 with 1 Axes>"
            ],
            "image/png": "[encoded data removed]"
          },
          "metadata": {
            "needs_background": "light"
          }
        }
      ]
    },
    {
      "cell_type": "code",
      "source": [
        "plt.plot(rotatedData[:,0]*-1,rotatedData[:,1]*-1,'o',markersize=5) \n",
        "\n",
        "plt.xlabel('art preference rating')\n",
        "plt.ylabel('Concern for others')\n",
        "plt.show()\n",
        "\n"
      ],
      "metadata": {
        "colab": {
          "base_uri": "https://localhost:8080/",
          "height": 279
        },
        "id": "E6gQe4x7pt3u",
        "outputId": "0bdcaa29-9d29-4e8a-a0c6-9619865cc367"
      },
      "execution_count": null,
      "outputs": [
        {
          "output_type": "display_data",
          "data": {
            "text/plain": [
              "<Figure size 432x288 with 1 Axes>"
            ],
            "image/png": "[encoded data removed]"
          },
          "metadata": {
            "needs_background": "light"
          }
        }
      ]
    },
    {
      "cell_type": "code",
      "source": [
        "P = loadings[whichPrincipalComponent,:]*-1\n"
      ],
      "metadata": {
        "colab": {
          "base_uri": "https://localhost:8080/"
        },
        "id": "-53bygUao6PI",
        "outputId": "11549bb7-3be4-48fb-d172-6ba8245d6076"
      },
      "execution_count": null,
      "outputs": [
        {
          "output_type": "execute_result",
          "data": {
            "text/plain": [
              "array([0.38364169, 0.33662453, 0.27865626, 0.20687105, 0.3241872 ,\n",
              "       0.2909794 , 0.3023467 , 0.2752813 , 0.36173059, 0.36228351])"
            ]
          },
          "metadata": {},
          "execution_count": 32
        }
      ]
    },
    {
      "cell_type": "markdown",
      "source": [
        "# scratch\n"
      ],
      "metadata": {
        "id": "NwP-slVxZ6L3"
      }
    }
  ]
}