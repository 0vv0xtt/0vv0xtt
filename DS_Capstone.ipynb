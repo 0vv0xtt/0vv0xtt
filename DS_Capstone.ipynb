{
  "nbformat": 4,
  "nbformat_minor": 0,
  "metadata": {
    "colab": {
      "provenance": [],
      "authorship_tag": "ABX9TyMBoXj4Uiqqxno9aICrLyTc",
      "include_colab_link": true
    },
    "kernelspec": {
      "name": "python3",
      "display_name": "Python 3"
    },
    "language_info": {
      "name": "python"
    }
  },
  "cells": [
    {
      "cell_type": "markdown",
      "metadata": {
        "id": "view-in-github",
        "colab_type": "text"
      },
      "source": [
        "<a href=\"https://colab.research.google.com/github/0vv0xtt/0vv0xtt/blob/main/DS_Capstone.ipynb\" target=\"_parent\"><img src=\"https://colab.research.google.com/assets/colab-badge.svg\" alt=\"Open In Colab\"/></a>"
      ]
    },
    {
      "cell_type": "code",
      "execution_count": 2,
      "metadata": {
        "id": "ol7XhOB0IZZ9"
      },
      "outputs": [],
      "source": [
        "#importing the libraries\n",
        "import random\n",
        "import numpy as np\n",
        "import pandas as pd\n",
        "from sklearn import datasets  \n",
        "from sklearn.preprocessing import StandardScaler \n",
        "from sklearn.decomposition import PCA \n",
        "import seaborn as sns \n",
        "random.seed(18969556)#my student number"
      ]
    },
    {
      "cell_type": "code",
      "source": [
        "file_path = 'https://raw.githubusercontent.com/0vv0xtt/DS-csv/main/theData.csv' #file path to the rating data\"\n",
        "file_path1 = 'https://raw.githubusercontent.com/0vv0xtt/DS-csv/main/theArt.csv' #file path of the artworks\"\n",
        "data = pd.read_csv(file_path,header = None)\n",
        "art = pd.read_csv(file_path1) #the pandas data frame that took care of \n",
        "df1 = art.iloc[:,5]\n"
      ],
      "metadata": {
        "colab": {
          "base_uri": "https://localhost:8080/"
        },
        "id": "rLPkeP0wIpsQ",
        "outputId": "9a1bc40a-6890-494e-d2c4-920c21143eed"
      },
      "execution_count": 42,
      "outputs": [
        {
          "output_type": "execute_result",
          "data": {
            "text/plain": [
              "0     1\n",
              "1     1\n",
              "2     1\n",
              "3     1\n",
              "4     1\n",
              "     ..\n",
              "86    3\n",
              "87    3\n",
              "88    3\n",
              "89    3\n",
              "90    3\n",
              "Name: Source (1 = classical, 2 = modern, 3 = nonhuman), Length: 91, dtype: int64"
            ]
          },
          "metadata": {},
          "execution_count": 42
        }
      ]
    },
    {
      "cell_type": "code",
      "source": [],
      "metadata": {
        "id": "-ELRKa__M-Xh"
      },
      "execution_count": null,
      "outputs": []
    }
  ]
}